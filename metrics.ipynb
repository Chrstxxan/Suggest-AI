{
 "cells": [
  {
   "cell_type": "markdown",
   "id": "abbb2a74",
   "metadata": {},
   "source": [
    "avaliando com o método da matriz de confusão que foi ensinado em aula (Métrica principal)"
   ]
  },
  {
   "cell_type": "code",
   "id": "aa8a9417",
   "metadata": {
    "jupyter": {
     "is_executing": true
    }
   },
   "source": [
    "import sys\n",
    "print(sys.executable)\n"
   ],
   "outputs": [],
   "execution_count": null
  },
  {
   "cell_type": "code",
   "id": "f6f2fa98",
   "metadata": {
    "jupyter": {
     "is_executing": true
    }
   },
   "source": [
    "import pandas as pd\n",
    "import numpy as np\n",
    "from sklearn.metrics import confusion_matrix, precision_score, recall_score, f1_score\n",
    "from sklearn.model_selection import train_test_split\n",
    "\n",
    "# ----------------- Config -----------------\n",
    "PATH_USUARIOS = r\"D:/Dev/projetos vscode/SuggestAI/data/usuarios_filmes.csv\"\n",
    "PATH_FILMES = r\"D:/Dev/projetos vscode/SuggestAI/data/filmes.csv\"\n",
    "\n",
    "# ----------------- Leitura dos CSVs -----------------\n",
    "df_usuarios = pd.read_csv(PATH_USUARIOS)\n",
    "df_filmes = pd.read_csv(PATH_FILMES)\n",
    "\n",
    "df_usuarios.columns = [c.strip() for c in df_usuarios.columns]\n",
    "df_filmes.columns = [c.strip() for c in df_filmes.columns]\n",
    "\n",
    "# ----------------- Colunas de gêneros -----------------\n",
    "generos_cols = ['acao','comedia','drama','ficcao cientifica','romance','terror','suspense']\n",
    "\n",
    "# ----------------- Criar estrutura de usuários -----------------\n",
    "usuarios = {}\n",
    "for _, row in df_usuarios.iterrows():\n",
    "    filmes = [f for f in row[['filme1','filme2','filme3','filme4','filme5','filme6','filme7']] if pd.notna(f) and f.strip() != '']\n",
    "    genero_scores = row[generos_cols].fillna(0).astype(float).to_dict()\n",
    "    usuarios[row['user_id']] = {\"movies\": filmes, **genero_scores}\n",
    "\n",
    "# ----------------- Divisão treino/teste -----------------\n",
    "for uid, info in usuarios.items():\n",
    "    filmes = info[\"movies\"]\n",
    "    if len(filmes) <= 1:\n",
    "        usuarios[uid][\"train\"] = filmes\n",
    "        usuarios[uid][\"teste\"] = []\n",
    "    else:\n",
    "        train, teste = train_test_split(filmes, test_size=0.4, random_state=42)\n",
    "        usuarios[uid][\"train\"] = train\n",
    "        usuarios[uid][\"teste\"] = teste\n",
    "\n",
    "# ----------------- Classe Recomendador -----------------\n",
    "class InteractiveRecommender:\n",
    "    def __init__(self, usuarios, filmes_df):\n",
    "        self.users = usuarios\n",
    "        self.filmes_df = filmes_df\n",
    "\n",
    "    def get_recommendations_inteligente(self, user_id, top_n=3):\n",
    "        filmes_vistos = set(self.users[user_id][\"train\"])\n",
    "        perfil_genero = np.array([self.users[user_id].get(g,0) for g in generos_cols], dtype=float)\n",
    "        all_films = list(self.filmes_df['filme'].values)\n",
    "\n",
    "        scores = {}\n",
    "        for filme in all_films:\n",
    "            if filme in filmes_vistos:\n",
    "                continue\n",
    "            genero = self.filmes_df.loc[self.filmes_df['filme']==filme,'genero'].values[0]\n",
    "            vec_genero = np.array([1 if g==genero else 0 for g in generos_cols], dtype=float)\n",
    "            score = np.dot(perfil_genero, vec_genero)\n",
    "            scores[filme] = score\n",
    "\n",
    "        recs = sorted(scores, key=lambda x: scores[x], reverse=True)[:top_n]\n",
    "        return recs\n",
    "\n",
    "    # Placeholders\n",
    "    def recommend_by_knn(self, user_id, top_n=3):\n",
    "        return self.get_recommendations_inteligente(user_id, top_n)\n",
    "\n",
    "    def recommend_by_weights(self, user_id, top_n=3):\n",
    "        return self.get_recommendations_inteligente(user_id, top_n)\n",
    "\n",
    "    def recommend_by_matrix_factorization(self, user_id, top_n=3):\n",
    "        return self.get_recommendations_inteligente(user_id, top_n)\n",
    "\n",
    "# ----------------- Instancia o recomendador -----------------\n",
    "recommender = InteractiveRecommender(usuarios, df_filmes)\n",
    "\n",
    "# ----------------- Função de avaliação combinando todos os métodos -----------------\n",
    "def avaliar_recomendador_combinado(recommender, top_n=3):\n",
    "    y_true, y_pred = [], []\n",
    "\n",
    "    for uid, dados in usuarios.items():\n",
    "        if not dados[\"teste\"]:\n",
    "            continue\n",
    "\n",
    "        # Combinar recomendações de todos os métodos\n",
    "        recs_combined = set()\n",
    "        recs_combined.update(recommender.get_recommendations_inteligente(uid, top_n=top_n))\n",
    "        recs_combined.update(recommender.recommend_by_knn(uid, top_n=top_n))\n",
    "        recs_combined.update(recommender.recommend_by_weights(uid, top_n=top_n))\n",
    "        recs_combined.update(recommender.recommend_by_matrix_factorization(uid, top_n=top_n))\n",
    "\n",
    "        # True Positives e False Negatives\n",
    "        for filme in dados[\"teste\"]:\n",
    "            y_true.append(1)\n",
    "            y_pred.append(1 if filme in recs_combined else 0)\n",
    "\n",
    "        # False Positives\n",
    "        for filme in recs_combined:\n",
    "            if filme not in dados[\"teste\"]:\n",
    "                y_true.append(0)\n",
    "                y_pred.append(1)\n",
    "\n",
    "    cm = confusion_matrix(y_true, y_pred)\n",
    "    prec = precision_score(y_true, y_pred, zero_division=0)\n",
    "    rec = recall_score(y_true, y_pred, zero_division=0)\n",
    "    f1 = f1_score(y_true, y_pred, zero_division=0)\n",
    "\n",
    "    return cm, prec, rec, f1\n",
    "\n",
    "# ----------------- Avaliação -----------------\n",
    "cm, prec, rec, f1 = avaliar_recomendador_combinado(recommender, top_n=3)\n",
    "print(\"\\n=== Avaliação Combinando Todos os Métodos ===\")\n",
    "print(\"Matriz de Confusão:\\n\", cm)\n",
    "print(f\"Precisão: {prec:.2f}\")\n",
    "print(f\"Recall: {rec:.2f}\")\n",
    "print(f\"F1-Score: {f1:.2f}\")\n"
   ],
   "outputs": [],
   "execution_count": null
  },
  {
   "cell_type": "markdown",
   "id": "fd3609d6",
   "metadata": {},
   "source": [
    "Métricas principais do modelo (Matriz de confusão, F1 Score e Recall), to fazendo teste para ver no que dá"
   ]
  },
  {
   "cell_type": "markdown",
   "id": "9011dc64",
   "metadata": {},
   "source": [
    "Matriz de confusão:"
   ]
  },
  {
   "cell_type": "code",
   "id": "dd4370cd",
   "metadata": {
    "jupyter": {
     "is_executing": true
    }
   },
   "source": [
    "import matplotlib.pyplot as plt\n",
    "import seaborn as sns\n",
    "from sklearn.metrics import confusion_matrix\n",
    "\n",
    "# Função para gerar y_true e y_pred combinando todos os métodos\n",
    "def gerar_labels(recommender, usuarios, top_n=3):\n",
    "    y_true, y_pred = [], []\n",
    "    for uid, dados in usuarios.items():\n",
    "        if not dados[\"teste\"]:\n",
    "            continue\n",
    "\n",
    "        recs_combined = set()\n",
    "        recs_combined.update(recommender.get_recommendations_inteligente(uid, top_n=top_n))\n",
    "        recs_combined.update(recommender.recommend_by_knn(uid, top_n=top_n))\n",
    "        recs_combined.update(recommender.recommend_by_weights(uid, top_n=top_n))\n",
    "        recs_combined.update(recommender.recommend_by_matrix_factorization(uid, top_n=top_n))\n",
    "\n",
    "        # True Positives / False Negatives\n",
    "        for filme in dados[\"teste\"]:\n",
    "            y_true.append(1)\n",
    "            y_pred.append(1 if filme in recs_combined else 0)\n",
    "\n",
    "        # False Positives\n",
    "        for filme in recs_combined:\n",
    "            if filme not in dados[\"teste\"]:\n",
    "                y_true.append(0)\n",
    "                y_pred.append(1)\n",
    "                \n",
    "    return y_true, y_pred\n",
    "\n",
    "# Gera os labels\n",
    "y_true, y_pred = gerar_labels(recommender, usuarios, top_n=3)\n",
    "\n",
    "# Matriz de Confusão\n",
    "cm = confusion_matrix(y_true, y_pred)\n",
    "plt.figure(figsize=(6,5))\n",
    "sns.heatmap(cm, annot=True, fmt=\"d\", cmap=\"Blues\", cbar=False)\n",
    "plt.xlabel(\"Predito\")\n",
    "plt.ylabel(\"Real\")\n",
    "plt.title(\"Matriz de Confusão do Recomendador\")\n",
    "plt.show()\n"
   ],
   "outputs": [],
   "execution_count": null
  },
  {
   "cell_type": "markdown",
   "id": "f592055c",
   "metadata": {},
   "source": [
    "F1 Score por usuário"
   ]
  },
  {
   "cell_type": "code",
   "id": "ec4e248a",
   "metadata": {
    "jupyter": {
     "is_executing": true
    }
   },
   "source": [
    "from sklearn.metrics import f1_score\n",
    "\n",
    "usuarios_ids = []\n",
    "f1_por_usuario = []\n",
    "\n",
    "for uid, dados in usuarios.items():\n",
    "    if not dados[\"teste\"]:\n",
    "        continue\n",
    "\n",
    "    recs_combined = set()\n",
    "    recs_combined.update(recommender.get_recommendations_inteligente(uid, top_n=3))\n",
    "    recs_combined.update(recommender.recommend_by_knn(uid, top_n=3))\n",
    "    recs_combined.update(recommender.recommend_by_weights(uid, top_n=3))\n",
    "    recs_combined.update(recommender.recommend_by_matrix_factorization(uid, top_n=3))\n",
    "\n",
    "    y_true, y_pred = [], []\n",
    "    for filme in dados[\"teste\"]:\n",
    "        y_true.append(1)\n",
    "        y_pred.append(1 if filme in recs_combined else 0)\n",
    "    for filme in recs_combined:\n",
    "        if filme not in dados[\"teste\"]:\n",
    "            y_true.append(0)\n",
    "            y_pred.append(1)\n",
    "\n",
    "    f1_por_usuario.append(f1_score(y_true, y_pred, zero_division=0))\n",
    "    usuarios_ids.append(uid)\n",
    "\n",
    "plt.figure(figsize=(10,5))\n",
    "plt.bar(usuarios_ids, f1_por_usuario, color=\"orange\")\n",
    "plt.xticks(rotation=90)\n",
    "plt.ylabel(\"F1 Score\")\n",
    "plt.xlabel(\"Usuário\")\n",
    "plt.title(\"F1 Score por Usuário\")\n",
    "plt.show()\n"
   ],
   "outputs": [],
   "execution_count": null
  },
  {
   "cell_type": "markdown",
   "id": "a2034466",
   "metadata": {},
   "source": [
    "Recall por usuário"
   ]
  },
  {
   "cell_type": "code",
   "id": "93f5f0bc",
   "metadata": {
    "jupyter": {
     "is_executing": true
    }
   },
   "source": [
    "from sklearn.metrics import recall_score\n",
    "\n",
    "recall_por_usuario = []\n",
    "\n",
    "for uid, dados in usuarios.items():\n",
    "    if not dados[\"teste\"]:\n",
    "        continue\n",
    "\n",
    "    recs_combined = set()\n",
    "    recs_combined.update(recommender.get_recommendations_inteligente(uid, top_n=3))\n",
    "    recs_combined.update(recommender.recommend_by_knn(uid, top_n=3))\n",
    "    recs_combined.update(recommender.recommend_by_weights(uid, top_n=3))\n",
    "    recs_combined.update(recommender.recommend_by_matrix_factorization(uid, top_n=3))\n",
    "\n",
    "    y_true, y_pred = [], []\n",
    "    for filme in dados[\"teste\"]:\n",
    "        y_true.append(1)\n",
    "        y_pred.append(1 if filme in recs_combined else 0)\n",
    "    for filme in recs_combined:\n",
    "        if filme not in dados[\"teste\"]:\n",
    "            y_true.append(0)\n",
    "            y_pred.append(1)\n",
    "\n",
    "    recall_por_usuario.append(recall_score(y_true, y_pred, zero_division=0))\n",
    "\n",
    "plt.figure(figsize=(10,5))\n",
    "plt.bar(usuarios_ids, recall_por_usuario, color=\"green\")\n",
    "plt.xticks(rotation=90)\n",
    "plt.ylabel(\"Recall\")\n",
    "plt.xlabel(\"Usuário\")\n",
    "plt.title(\"Recall por Usuário\")\n",
    "plt.show()\n"
   ],
   "outputs": [],
   "execution_count": null
  },
  {
   "cell_type": "code",
   "execution_count": null,
   "id": "0f573e5f",
   "metadata": {},
   "outputs": [
    {
     "ename": "",
     "evalue": "",
     "output_type": "error",
     "traceback": [
      "\u001B[1;31mThe kernel failed to start as the Python Environment 'Python 3.13.7' is no longer available. Consider selecting another kernel or refreshing the list of Python Environments."
     ]
    }
   ],
   "source": [
    "import sys\n",
    "!{sys.executable} -m ensurepip --upgrade\n",
    "!{sys.executable} -m pip install --upgrade pip\n"
   ]
  }
 ],
 "metadata": {
  "kernelspec": {
   "display_name": "Python (SuggestAI)",
   "language": "python",
   "name": "suggestai-venv"
  },
  "language_info": {
   "codemirror_mode": {
    "name": "ipython",
    "version": 3
   },
   "file_extension": ".py",
   "mimetype": "text/x-python",
   "name": "python",
   "nbconvert_exporter": "python",
   "pygments_lexer": "ipython3",
   "version": "3.14.0"
  }
 },
 "nbformat": 4,
 "nbformat_minor": 5
}
